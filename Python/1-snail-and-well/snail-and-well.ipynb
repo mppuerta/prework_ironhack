{
 "cells": [
  {
   "cell_type": "markdown",
   "metadata": {},
   "source": [
    "# Snail and well\n",
    "\n",
    "A snail falls at the bottom of a 125 cm well. Each day the snail rises 30 cm. But at night, while sleeping, slides 20 cm because the walls are wet. How many days does it take to escape from the well?\n",
    "\n",
    "TIP: http://puzzles.nigelcoldwell.co.uk/sixtytwo.htm"
   ]
  },
  {
   "cell_type": "markdown",
   "metadata": {},
   "source": [
    "## Solución"
   ]
  },
  {
   "cell_type": "code",
   "execution_count": 3,
   "metadata": {},
   "outputs": [
    {
     "name": "stdout",
     "output_type": "stream",
     "text": [
      "Days = 11\n"
     ]
    }
   ],
   "source": [
    "# When the snails gets to the last 30cm, he won't slide down that night because he will have already arrived by that time.\n",
    "\n",
    "# So, we will consider the 'sliding zone' the first 95cm. Also, it will take him one day to climb those last 30cm. \n",
    "\n",
    "# Because of that, we'll also consider the total time it takes him starts from 1 day.\n",
    "\n",
    "\n",
    "advance = 0\n",
    "day = 30\n",
    "night = -20\n",
    "total_time = 1\n",
    "\n",
    "\n",
    "while advance < 95:\n",
    "    advance += day + night\n",
    "    total_time += 1\n",
    "    \n",
    "    \n",
    "print ('Days =', total_time)\n"
   ]
  },
  {
   "cell_type": "markdown",
   "metadata": {},
   "source": [
    "**Expected output**: \n",
    "```\n",
    "Days = 11\n",
    "```"
   ]
  },
  {
   "cell_type": "markdown",
   "metadata": {},
   "source": [
    "## Goals\n",
    "\n",
    "1. Treatment of variables\n",
    "2. Use of loop **while**\n",
    "3. Use of conditional **if-else**\n",
    "4. Print in console"
   ]
  },
  {
   "cell_type": "markdown",
   "metadata": {},
   "source": [
    "## Bonus\n",
    "The distance traveled by the snail is now defined by a list.\n",
    "```\n",
    "advance_cm = [30, 21, 33, 77, 44, 45, 23, 45, 12, 34, 55]\n",
    "```\n",
    "How long does it take to raise the well?\n",
    "\n",
    "What is its maximum displacement in one day? And its minimum?\n",
    "\n",
    "What is its average speed during the day?\n",
    "\n",
    "What is the standard deviation of its displacement during the day?"
   ]
  },
  {
   "cell_type": "code",
   "execution_count": 5,
   "metadata": {},
   "outputs": [
    {
     "name": "stdout",
     "output_type": "stream",
     "text": [
      "Days = 6\n"
     ]
    }
   ],
   "source": [
    "#How long does it take to raise the well?\n",
    "\n",
    "\n",
    "advance_cm = [30, 21, 33, 77, 44, 45, 23, 45, 12, 34, 55]\n",
    "position = 0\n",
    "time = 0\n",
    "\n",
    "\n",
    "for i in advance_cm:\n",
    "    if position < 125:\n",
    "        position += i + night\n",
    "        time += 1\n",
    "    \n",
    "    \n",
    "print ('Days =', time)\n"
   ]
  },
  {
   "cell_type": "markdown",
   "metadata": {},
   "source": [
    "**Expected output**: \n",
    "```\n",
    "Days = 6\n",
    "```"
   ]
  },
  {
   "cell_type": "code",
   "execution_count": 6,
   "metadata": {},
   "outputs": [
    {
     "name": "stdout",
     "output_type": "stream",
     "text": [
      "77 12\n"
     ]
    }
   ],
   "source": [
    "# What is its maximum displacement in a day? And its minimum?\n",
    "\n",
    "#Considering the whole list advance_cm, not only the displacements the snail needs to get out of the well\n",
    "\n",
    "\n",
    "maxdisplacement = max(advance_cm)\n",
    "mindisplacement = min(advance_cm)\n",
    "\n",
    "\n",
    "print(maxdisplacement, mindisplacement)\n"
   ]
  },
  {
   "cell_type": "markdown",
   "metadata": {},
   "source": [
    "**Expected output**: \n",
    "```\n",
    "77 12\n",
    "```"
   ]
  },
  {
   "cell_type": "code",
   "execution_count": 7,
   "metadata": {},
   "outputs": [
    {
     "name": "stdout",
     "output_type": "stream",
     "text": [
      "38.09090909090909\n"
     ]
    }
   ],
   "source": [
    "# What is its average progress?\n",
    "\n",
    "#Considering the whole list advance_cm, not only the displacements the snail needs to get out of the well\n",
    "\n",
    "\n",
    "average_progress = sum(advance_cm)/len(advance_cm)\n",
    "\n",
    "\n",
    "print(average_progress)\n"
   ]
  },
  {
   "cell_type": "markdown",
   "metadata": {},
   "source": [
    "**Expected output**: \n",
    "```\n",
    "38.09090909090909\n",
    "```"
   ]
  },
  {
   "cell_type": "code",
   "execution_count": 13,
   "metadata": {},
   "outputs": [
    {
     "name": "stdout",
     "output_type": "stream",
     "text": [
      "17.159437082600803\n"
     ]
    }
   ],
   "source": [
    "# What is the standard deviation of your displacement during the day?\n",
    "\n",
    "#Considering the whole list advance_cm, not only the displacements the snail needs to get out of the well\n",
    "\n",
    "\n",
    "denom = []\n",
    "\n",
    "\n",
    "for i in advance_cm:\n",
    "    disp = (i - average_progress)**2\n",
    "    denom.append(disp)\n",
    "    \n",
    "    \n",
    "standard_deviation = (sum(denom)/len(denom))**(1/2)\n",
    "\n",
    "\n",
    "print(standard_deviation)\n"
   ]
  },
  {
   "cell_type": "markdown",
   "metadata": {},
   "source": [
    "**Expected output**: \n",
    "```\n",
    "17.159437082600803\n",
    "```"
   ]
  }
 ],
 "metadata": {
  "kernelspec": {
   "display_name": "Python 3",
   "language": "python",
   "name": "python3"
  },
  "language_info": {
   "codemirror_mode": {
    "name": "ipython",
    "version": 3
   },
   "file_extension": ".py",
   "mimetype": "text/x-python",
   "name": "python",
   "nbconvert_exporter": "python",
   "pygments_lexer": "ipython3",
   "version": "3.7.6"
  }
 },
 "nbformat": 4,
 "nbformat_minor": 2
}
