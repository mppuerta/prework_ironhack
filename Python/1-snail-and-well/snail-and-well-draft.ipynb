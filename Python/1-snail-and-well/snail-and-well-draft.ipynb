{
 "cells": [
  {
   "cell_type": "code",
   "execution_count": 13,
   "metadata": {},
   "outputs": [],
   "source": [
    "#Snail and well\n",
    "\n",
    "#A snail falls at the bottom of a 125 cm well. Each day the snail rises 30 cm.\n",
    "\n",
    "#But at night, while sleeping, slides 20 cm because the walls are wet.\n",
    "\n",
    "#How many days does it take to escape from the well?\n",
    "\n",
    "\n"
   ]
  },
  {
   "cell_type": "code",
   "execution_count": 5,
   "metadata": {},
   "outputs": [
    {
     "name": "stdout",
     "output_type": "stream",
     "text": [
      "11 days\n"
     ]
    }
   ],
   "source": [
    "# When the snails gets to the last 30cm, he won't slide down because he will have already arrived.\n",
    "\n",
    "# So, we will consider the 'sliding zone' the first 95cm. Also, it will take him one day to climb those last 30cm. \n",
    "\n",
    "# Because of that, we'll also consider the total time it takes him starts from 1 day.\n",
    "\n",
    "advance = 0\n",
    "day = 30\n",
    "night = -20\n",
    "total_time = 1\n",
    "\n",
    "while advance < 95:\n",
    "    advance += day + night\n",
    "    total_time += 1\n",
    "    \n",
    "print (total_time, \"days\")\n"
   ]
  },
  {
   "cell_type": "code",
   "execution_count": null,
   "metadata": {},
   "outputs": [],
   "source": [
    "#Bonus\n",
    "\n",
    "#The distance traveled by the snail is now defined by a list.\n",
    "\n",
    "#advance_cm = [30, 21, 33, 77, 44, 45, 23, 45, 12, 34, 55]\n",
    "\n",
    "#How long does it take to raise the well?\n",
    "\n",
    "#What is its maximum displacement in one day? And its minimum?\n",
    "\n",
    "#What is its average speed during the day?\n",
    "\n",
    "#What is the standard deviation of its displacement during the day?\n"
   ]
  },
  {
   "cell_type": "code",
   "execution_count": 12,
   "metadata": {},
   "outputs": [
    {
     "name": "stdout",
     "output_type": "stream",
     "text": [
      "6 days\n"
     ]
    }
   ],
   "source": [
    "#How long does it take to raise the well?\n",
    "\n",
    "\n",
    "advance_cm = [30, 21, 33, 77, 44, 45, 23, 45, 12, 34, 55]\n",
    "night_retreat = -20\n",
    "position = 0\n",
    "time = 0\n",
    "day_displacement = []\n",
    "\n",
    "\n",
    "for i in advance_cm:\n",
    "    if position < 125:\n",
    "        position += i + night_retreat\n",
    "        time += 1\n",
    "        day_displacement.append (i)\n",
    "    \n",
    "    \n",
    "print (time, 'days')\n"
   ]
  },
  {
   "cell_type": "code",
   "execution_count": 13,
   "metadata": {},
   "outputs": [
    {
     "name": "stdout",
     "output_type": "stream",
     "text": [
      "The maximum displacement is 57 cm\n",
      "The minimum displacement is 1 cm\n"
     ]
    }
   ],
   "source": [
    "#What is its maximum displacement in one day? And its minimum?\n",
    "\n",
    "# The 'expected output' considered the whole list advance_cm. \n",
    "# I did it considering the list of displacement needed to get out of the well.\n",
    "# Also I considered the 'net displacement', adding the night retreat.\n",
    "\n",
    "\n",
    "accum = 0\n",
    "net_displacement = []\n",
    "\n",
    "\n",
    "for i in day_displacement:\n",
    "    net = i + night_retreat\n",
    "    accum += net\n",
    "    if accum < 125:\n",
    "        net_displacement.append (net)\n",
    "    if accum >= 125:\n",
    "        accum -= 125\n",
    "        net_displacement.append (accum)\n",
    "        \n",
    "\n",
    "maxdisplacement = max(net_displacement)\n",
    "mindisplacement = min(net_displacement)\n",
    "\n",
    "\n",
    "print('The maximum displacement is',maxdisplacement,'cm')\n",
    "print('The minimum displacement is',mindisplacement,'cm')\n"
   ]
  },
  {
   "cell_type": "code",
   "execution_count": 21,
   "metadata": {},
   "outputs": [
    {
     "name": "stdout",
     "output_type": "stream",
     "text": [
      "35.0\n"
     ]
    }
   ],
   "source": [
    "#What is its average speed during the day?\n",
    "\n",
    "displacement = []\n",
    "accum = 0\n",
    "\n",
    "\n",
    "\n",
    "for i in day_displacement:\n",
    "    disp = i \n",
    "    accum += disp + night_retreat\n",
    "    if accum < 125:\n",
    "        displacement.append (disp)\n",
    "    if accum >= 125:\n",
    "        accum -= 125\n",
    "        displacement.append (accum)\n",
    "\n",
    "\n",
    "averagespeed = sum(displacement)/len(displacement)\n",
    "\n",
    "\n",
    "print(averagespeed)\n"
   ]
  },
  {
   "cell_type": "code",
   "execution_count": 25,
   "metadata": {},
   "outputs": [
    {
     "name": "stdout",
     "output_type": "stream",
     "text": [
      "22.24859546128699\n"
     ]
    }
   ],
   "source": [
    "#What is the standard deviation of its displacement during the day?\n",
    "\n",
    "\n",
    "denom = []\n",
    "\n",
    "\n",
    "for i in displacement:\n",
    "    disp = (i - averagespeed)**2\n",
    "    denom.append(disp)\n",
    "    \n",
    "    \n",
    "standard_deviation = (sum(denom)/len(denom))**(1/2)\n",
    "\n",
    "\n",
    "print(standard_deviation)\n"
   ]
  },
  {
   "cell_type": "code",
   "execution_count": null,
   "metadata": {},
   "outputs": [],
   "source": []
  }
 ],
 "metadata": {
  "kernelspec": {
   "display_name": "Python 3",
   "language": "python",
   "name": "python3"
  },
  "language_info": {
   "codemirror_mode": {
    "name": "ipython",
    "version": 3
   },
   "file_extension": ".py",
   "mimetype": "text/x-python",
   "name": "python",
   "nbconvert_exporter": "python",
   "pygments_lexer": "ipython3",
   "version": "3.7.6"
  }
 },
 "nbformat": 4,
 "nbformat_minor": 2
}
