{
 "cells": [
  {
   "cell_type": "code",
   "execution_count": 5,
   "metadata": {},
   "outputs": [],
   "source": [
    "#Minimum temperature\n",
    "#Maximum temperature\n",
    "#Temperatures equal to or greater than 70ºC\n",
    "#Average temperatures throughout the day.\n",
    "#If there was a sensor failure at 03:00 and we did not capture the data,\n",
    "#    how would you estimate the value that we lack? Correct that value in the list of temperatures.\n",
    "#Bonus: Our maintenance staff is from the United States and does not understand the international\n",
    "#    metric system. Pass temperatures to Degrees Fahrenheit.\n",
    "\n",
    "\n",
    "\n",
    "temperatures_C = [33,66,65,0,59,60,62,64,70,76,80,69,80,83,68,79,61,53,50,49,53,48,45,39]\n"
   ]
  },
  {
   "cell_type": "code",
   "execution_count": 20,
   "metadata": {},
   "outputs": [
    {
     "name": "stdout",
     "output_type": "stream",
     "text": [
      "We must replace the cooling system, the sensor registered 4 or more hours at 70ºC or more\n"
     ]
    }
   ],
   "source": [
    "temperatures_C = [33,66,65,0,59,60,62,64,70,76,80,69,80,83,68,79,61,53,50,49,53,48,45,39]\n",
    "\n",
    "\n",
    "\n",
    "maxtemp = max(temperatures_C)\n",
    "avgtemp = sum(temperatures_C)/len(temperatures_C)\n",
    "hoursover70 = 0\n",
    "\n",
    "\n",
    "\n",
    "\n",
    "for i in temperatures_C:\n",
    "    if maxtemp >= 80:\n",
    "        print ('We must replace the cooling system, the sensor reached temperatures higher or equal to 80ºC')\n",
    "        break\n",
    "    elif avgtemp >= 65:\n",
    "        print ('We must replace the cooling system, its average temperature is over 65ºC')\n",
    "        break\n",
    "    elif i >= 70:\n",
    "        hoursover70 += 1\n",
    "    if hoursover70 >= 4:\n",
    "        print('We must replace the cooling system, the sensor registered 4 or more hours at 70ºC or more')\n",
    "        break\n",
    "    \n",
    "        \n",
    "        \n",
    "        "
   ]
  },
  {
   "cell_type": "code",
   "execution_count": 21,
   "metadata": {},
   "outputs": [
    {
     "name": "stdout",
     "output_type": "stream",
     "text": [
      "True70\n",
      "True70\n",
      "True70\n",
      "True70\n",
      "True70\n",
      "True70\n",
      "True70\n",
      "True70\n",
      "True70\n",
      "True70\n"
     ]
    }
   ],
   "source": [
    "for i in temperatures_C:\n",
    "    if maxtemp >= 80:\n",
    "        print ('True80')\n",
    "        break\n",
    "    elif avgtemp >= 65:\n",
    "        print ('True65')\n",
    "        break\n",
    "    for i in temperatures_C:\n",
    "        if i >= 70:\n",
    "            hoursover70 += 1\n",
    "            if hoursover70 >= 4:\n",
    "                print('True70')\n",
    "                break\n",
    "    else:\n",
    "        print('False')"
   ]
  },
  {
   "cell_type": "code",
   "execution_count": 22,
   "metadata": {},
   "outputs": [
    {
     "ename": "AttributeError",
     "evalue": "'list' object has no attribute 'mean'",
     "output_type": "error",
     "traceback": [
      "\u001b[0;31m---------------------------------------------------------------------------\u001b[0m",
      "\u001b[0;31mAttributeError\u001b[0m                            Traceback (most recent call last)",
      "\u001b[0;32m<ipython-input-22-dcfec16726f6>\u001b[0m in \u001b[0;36m<module>\u001b[0;34m\u001b[0m\n\u001b[1;32m      1\u001b[0m \u001b[0mtemperatures_C\u001b[0m \u001b[0;34m=\u001b[0m \u001b[0;34m[\u001b[0m\u001b[0;36m33\u001b[0m\u001b[0;34m,\u001b[0m\u001b[0;36m66\u001b[0m\u001b[0;34m,\u001b[0m\u001b[0;36m65\u001b[0m\u001b[0;34m,\u001b[0m\u001b[0;36m0\u001b[0m\u001b[0;34m,\u001b[0m\u001b[0;36m59\u001b[0m\u001b[0;34m,\u001b[0m\u001b[0;36m60\u001b[0m\u001b[0;34m,\u001b[0m\u001b[0;36m62\u001b[0m\u001b[0;34m,\u001b[0m\u001b[0;36m64\u001b[0m\u001b[0;34m,\u001b[0m\u001b[0;36m70\u001b[0m\u001b[0;34m,\u001b[0m\u001b[0;36m76\u001b[0m\u001b[0;34m,\u001b[0m\u001b[0;36m80\u001b[0m\u001b[0;34m,\u001b[0m\u001b[0;36m69\u001b[0m\u001b[0;34m,\u001b[0m\u001b[0;36m80\u001b[0m\u001b[0;34m,\u001b[0m\u001b[0;36m83\u001b[0m\u001b[0;34m,\u001b[0m\u001b[0;36m68\u001b[0m\u001b[0;34m,\u001b[0m\u001b[0;36m79\u001b[0m\u001b[0;34m,\u001b[0m\u001b[0;36m61\u001b[0m\u001b[0;34m,\u001b[0m\u001b[0;36m53\u001b[0m\u001b[0;34m,\u001b[0m\u001b[0;36m50\u001b[0m\u001b[0;34m,\u001b[0m\u001b[0;36m49\u001b[0m\u001b[0;34m,\u001b[0m\u001b[0;36m53\u001b[0m\u001b[0;34m,\u001b[0m\u001b[0;36m48\u001b[0m\u001b[0;34m,\u001b[0m\u001b[0;36m45\u001b[0m\u001b[0;34m,\u001b[0m\u001b[0;36m39\u001b[0m\u001b[0;34m]\u001b[0m\u001b[0;34m\u001b[0m\u001b[0;34m\u001b[0m\u001b[0m\n\u001b[1;32m      2\u001b[0m \u001b[0;34m\u001b[0m\u001b[0m\n\u001b[0;32m----> 3\u001b[0;31m \u001b[0mprint\u001b[0m\u001b[0;34m(\u001b[0m\u001b[0mtemperatures_C\u001b[0m\u001b[0;34m.\u001b[0m\u001b[0mmean\u001b[0m\u001b[0;34m)\u001b[0m\u001b[0;34m\u001b[0m\u001b[0;34m\u001b[0m\u001b[0m\n\u001b[0m",
      "\u001b[0;31mAttributeError\u001b[0m: 'list' object has no attribute 'mean'"
     ]
    }
   ],
   "source": [
    "temperatures_C = [33,66,65,0,59,60,62,64,70,76,80,69,80,83,68,79,61,53,50,49,53,48,45,39]\n",
    "\n"
   ]
  },
  {
   "cell_type": "code",
   "execution_count": 7,
   "metadata": {},
   "outputs": [
    {
     "name": "stdout",
     "output_type": "stream",
     "text": [
      "[8, 9, 10, 11, 12, 13, 14, 15]\n"
     ]
    }
   ],
   "source": [
    "#We want the hours (not the temperatures) whose temperature exceeds 70ºC\n",
    "\n",
    "temperatures_C = [33, 66, 65, 62.0, 59, 60, 62, 64, 70, 76, 80, 81, 80, 83, 90, 79, 61, 53, 50, 49, 53, 48, 45, 39]\n",
    "\n",
    "hours = list(range(len(temperatures_C)))\n",
    "\n",
    "tempperhour = zip(temperatures_C, hours)\n",
    "tempperhourlist = list(tempperhour)\n",
    "\n",
    "hoursover70 = []\n",
    "\n",
    "for i in tempperhourlist:\n",
    "    if i[0] >= 70:\n",
    "        hoursover70.append (i[1])\n",
    "        \n",
    "print(hoursover70)\n",
    "\n",
    "\n",
    "\n",
    "\n",
    "\n"
   ]
  },
  {
   "cell_type": "code",
   "execution_count": 8,
   "metadata": {},
   "outputs": [],
   "source": [
    "#Condition that those hours are more than 4 consecutive and consecutive,\n",
    "#not simply the sum of the whole set. Is this condition met?\n",
    "\n",
    "#Average of each of the lists (ºC and ºF). How they relate?\n",
    "\n",
    "#Standard deviation of each of the lists. How they relate?\n",
    "\n",
    "\n",
    "\n"
   ]
  },
  {
   "cell_type": "code",
   "execution_count": null,
   "metadata": {},
   "outputs": [],
   "source": [
    "# 1. We want the hours (not the temperatures) whose temperature exceeds 70ºC\n",
    "\n",
    "# 2. Condition that those hours are more than 4 consecutive and consecutive,\n",
    "#    not simply the sum of the whole set. Is this condition met?\n",
    "\n",
    "\n",
    "temperatues_C = [33, 66, 65, 62.0, 59, 60, 62, 64, 70, 76, 80, 81, 80, 83, 90, 79, 61, 53, 50, 49, 53, 48, 45, 39]\n",
    "hours = "
   ]
  }
 ],
 "metadata": {
  "kernelspec": {
   "display_name": "Python 3",
   "language": "python",
   "name": "python3"
  },
  "language_info": {
   "codemirror_mode": {
    "name": "ipython",
    "version": 3
   },
   "file_extension": ".py",
   "mimetype": "text/x-python",
   "name": "python",
   "nbconvert_exporter": "python",
   "pygments_lexer": "ipython3",
   "version": "3.7.6"
  }
 },
 "nbformat": 4,
 "nbformat_minor": 2
}
