{
 "cells": [
  {
   "cell_type": "code",
   "execution_count": 1,
   "metadata": {},
   "outputs": [],
   "source": [
    "#Goals:\n",
    "\n",
    "#data structures: lists, sets, tuples\n",
    "#logical operators: if-elif-else\n",
    "#loop: while/for\n",
    "#minimum (optional sorting)\n",
    "\n",
    "\n",
    "\n",
    "#Description:\n",
    "\n",
    "#In the 2-dimensional space, a point can be defined by a pair of values that correspond to the horizontal\n",
    "#coordinate (x) and the vertical coordinate (y). The space can be divided into 4 zones (quadrants): Q1, Q2,\n",
    "#Q3, Q4. Whose single point of union is the point (0, 0).\n",
    "\n",
    "#If a point is in Q1 both its x coordinate and the y are positive. I leave a link to wikipedia to familiarize\n",
    "#yourself with these quadrants.\n",
    "\n",
    "#https://en.wikipedia.org/wiki/Cartesian_coordinate_system\n",
    "\n",
    "#https://en.wikipedia.org/wiki/Euclidean_distance\n",
    "\n",
    "\n",
    "\n",
    "#Shots:\n",
    "\n",
    "#points = [(4, 5), (-0, 2), (4, 7), (1, -3), (3, -2), (4, 5),\n",
    "#          (3, 2), (5, 7), (-5, 7), (2, 2), (-4, 5), (0, -2),\n",
    "#          (-4, 7), (-1, 3), (-3, 2), (-4, -5), (-3, 2),\n",
    "#          (5, 7), (5, 7), (2, 2), (9, 9), (-8, -9)]\n"
   ]
  },
  {
   "cell_type": "code",
   "execution_count": 48,
   "metadata": {},
   "outputs": [
    {
     "name": "stdout",
     "output_type": "stream",
     "text": [
      "True\n"
     ]
    }
   ],
   "source": [
    "#Robin Hood is famous for hitting an arrow with another arrow. Did you get it?\n",
    "\n",
    "points = [(4, 5), (-0, 2), (4, 7), (1, -3), (3, -2), (4, 5),\n",
    "          (3, 2), (5, 7), (-5, 7), (2, 2), (-4, 5), (0, -2),\n",
    "          (-4, 7), (-1, 3), (-3, 2), (-4, -5), (-3, 2),\n",
    "          (5, 7), (5, 7), (2, 2), (9, 9), (-8, -9)]\n",
    "\n",
    "set_points = set(points)\n",
    "\n",
    "if points == set_points:\n",
    "    print('False')\n",
    "elif points != set_points:\n",
    "    print (\"True\")"
   ]
  },
  {
   "cell_type": "code",
   "execution_count": 49,
   "metadata": {},
   "outputs": [
    {
     "name": "stdout",
     "output_type": "stream",
     "text": [
      "(10, 6, 2, 2)\n"
     ]
    }
   ],
   "source": [
    "#Calculate how many arrows have fallen in each quadrant.\n",
    "\n",
    "Q1 = 0\n",
    "Q2 = 0\n",
    "Q3 = 0\n",
    "Q4 = 0\n",
    "\n",
    "\n",
    "for i in points:\n",
    "    if i[0] > 0 and i[1] > 0:\n",
    "        Q1 += 1\n",
    "    elif i[0] > 0 and i[1] < 0:\n",
    "        Q4 += 1\n",
    "    elif i[0] < 0 and i[1] > 0:\n",
    "        Q2 += 1\n",
    "    elif i[0] < 0 and i[1] < 0:\n",
    "        Q3 += 1\n",
    "\n",
    "arrowsperquadrant = (Q1, Q2, Q3, Q4)\n",
    "\n",
    "print (arrowsperquadrant)\n",
    "\n"
   ]
  },
  {
   "cell_type": "code",
   "execution_count": 61,
   "metadata": {},
   "outputs": [
    {
     "name": "stdout",
     "output_type": "stream",
     "text": [
      "(0, 2)\n",
      "(0, -2)\n",
      "2.0\n"
     ]
    }
   ],
   "source": [
    "#Find the point closest to the center. Calculate its distance to the center.\n",
    "\n",
    "points_distances = {}\n",
    "\n",
    "for i in points:\n",
    "    distance = ((i[0]**2)+(i[1]**2))**(1/2)\n",
    "    points_distances [i] = distance\n",
    "    \n",
    "mindistance = min(points_distances.values())\n",
    "\n",
    "for i in points_distances:\n",
    "    if points_distances [i] == mindistance:\n",
    "        print (i)\n",
    "    \n",
    "print(mindistance)\n",
    "\n"
   ]
  },
  {
   "cell_type": "code",
   "execution_count": 64,
   "metadata": {},
   "outputs": [
    {
     "name": "stdout",
     "output_type": "stream",
     "text": [
      "[(9, 9), (-8, -9)]\n",
      "2\n"
     ]
    }
   ],
   "source": [
    "#If the target has a radius of 9, calculate the number of arrows that must be picked up in the forest.\n",
    "\n",
    "outoftarget = []\n",
    "\n",
    "for i in points:\n",
    "    if (i[0]**2) + (i[1]**2) > 81:\n",
    "        outoftarget.append (i)\n",
    "\n",
    "numberofarrows = len(outoftarget)\n",
    "\n",
    "print (outoftarget)\n",
    "print (numberofarrows)"
   ]
  },
  {
   "cell_type": "code",
   "execution_count": null,
   "metadata": {},
   "outputs": [],
   "source": []
  }
 ],
 "metadata": {
  "kernelspec": {
   "display_name": "Python 3",
   "language": "python",
   "name": "python3"
  },
  "language_info": {
   "codemirror_mode": {
    "name": "ipython",
    "version": 3
   },
   "file_extension": ".py",
   "mimetype": "text/x-python",
   "name": "python",
   "nbconvert_exporter": "python",
   "pygments_lexer": "ipython3",
   "version": "3.7.6"
  }
 },
 "nbformat": 4,
 "nbformat_minor": 2
}
