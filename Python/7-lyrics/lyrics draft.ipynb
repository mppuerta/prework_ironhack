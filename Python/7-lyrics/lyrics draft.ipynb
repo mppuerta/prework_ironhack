{
 "cells": [
  {
   "cell_type": "code",
   "execution_count": 1,
   "metadata": {},
   "outputs": [
    {
     "name": "stdout",
     "output_type": "stream",
     "text": [
      "lalala\n",
      "lalala\n"
     ]
    }
   ],
   "source": [
    "print('lalala\\nlalala')"
   ]
  },
  {
   "cell_type": "code",
   "execution_count": 2,
   "metadata": {},
   "outputs": [],
   "source": [
    "line = \"{}, doo doo doo doo doo doo\\n{}, doo doo doo doo doo doo\\n{}, doo doo doo doo doo doo\\n{}!\""
   ]
  },
  {
   "cell_type": "code",
   "execution_count": null,
   "metadata": {},
   "outputs": [],
   "source": []
  },
  {
   "cell_type": "code",
   "execution_count": null,
   "metadata": {},
   "outputs": [],
   "source": []
  },
  {
   "cell_type": "code",
   "execution_count": 8,
   "metadata": {},
   "outputs": [
    {
     "name": "stdout",
     "output_type": "stream",
     "text": [
      "jlalalal\n"
     ]
    }
   ],
   "source": [
    "mystring = 'lalala'\n",
    "\n",
    "mystring.join('ja')\n",
    "\n",
    "print(mystring.join('jl'))"
   ]
  },
  {
   "cell_type": "code",
   "execution_count": 9,
   "metadata": {},
   "outputs": [],
   "source": [
    "line = '''{}, doo doo doo doo doo doo\n",
    "{}, doo doo doo doo doo doo\n",
    "{}, doo doo doo doo doo doo\n",
    "{}!\n",
    "{}, doo doo doo doo doo doo\n",
    "{}, doo doo doo doo doo doo\n",
    "{}, doo doo doo doo doo doo\n",
    "{}!\n",
    "{}, doo doo doo doo doo doo\n",
    "{}, doo doo doo doo doo doo\n",
    "{}, doo doo doo doo doo doo\n",
    "{}!\n",
    "{}, doo doo doo doo doo doo\n",
    "{}, doo doo doo doo doo doo\n",
    "{}, doo doo doo doo doo doo\n",
    "{}!\n",
    "{}, doo doo doo doo doo doo\n",
    "{}, doo doo doo doo doo doo\n",
    "{}, doo doo doo doo doo doo\n",
    "{}!\n",
    "{}, doo doo doo doo doo doo\n",
    "{}, doo doo doo doo doo doo\n",
    "{}, doo doo doo doo doo doo\n",
    "{}!\n",
    "Run away,...\n",
    "'''"
   ]
  },
  {
   "cell_type": "code",
   "execution_count": null,
   "metadata": {},
   "outputs": [],
   "source": []
  },
  {
   "cell_type": "code",
   "execution_count": null,
   "metadata": {},
   "outputs": [],
   "source": []
  },
  {
   "cell_type": "code",
   "execution_count": null,
   "metadata": {},
   "outputs": [],
   "source": []
  },
  {
   "cell_type": "code",
   "execution_count": null,
   "metadata": {},
   "outputs": [],
   "source": []
  },
  {
   "cell_type": "code",
   "execution_count": 12,
   "metadata": {},
   "outputs": [
    {
     "name": "stdout",
     "output_type": "stream",
     "text": [
      "2\n"
     ]
    }
   ],
   "source": [
    "def func():\n",
    "    return 2\n",
    "    \n",
    "other = func()\n",
    "    \n",
    "    \n",
    "print(other)\n",
    "\n",
    "\n"
   ]
  },
  {
   "cell_type": "code",
   "execution_count": 21,
   "metadata": {},
   "outputs": [
    {
     "name": "stdout",
     "output_type": "stream",
     "text": [
      "lalala\n",
      "lelelelilili\n"
     ]
    }
   ],
   "source": [
    "text1 = 'lalala'\n",
    "text2 = 'lelele'\n",
    "text3 = 'lilili'\n",
    "\n",
    "stringvariable = str (text1 + '\\n' + text2 + text3)\n",
    "\n",
    "print(stringvariable)"
   ]
  },
  {
   "cell_type": "code",
   "execution_count": 5,
   "metadata": {},
   "outputs": [
    {
     "ename": "TypeError",
     "evalue": "func() takes 0 positional arguments but 1 was given",
     "output_type": "error",
     "traceback": [
      "\u001b[0;31m---------------------------------------------------------------------------\u001b[0m",
      "\u001b[0;31mTypeError\u001b[0m                                 Traceback (most recent call last)",
      "\u001b[0;32m<ipython-input-5-6d16ae7b175b>\u001b[0m in \u001b[0;36m<module>\u001b[0;34m\u001b[0m\n\u001b[1;32m      4\u001b[0m     \u001b[0;32mreturn\u001b[0m \u001b[0mv\u001b[0m\u001b[0;34m\u001b[0m\u001b[0;34m\u001b[0m\u001b[0m\n\u001b[1;32m      5\u001b[0m \u001b[0;34m\u001b[0m\u001b[0m\n\u001b[0;32m----> 6\u001b[0;31m \u001b[0mfunc\u001b[0m\u001b[0;34m(\u001b[0m\u001b[0mv\u001b[0m\u001b[0;34m)\u001b[0m\u001b[0;34m\u001b[0m\u001b[0;34m\u001b[0m\u001b[0m\n\u001b[0m\u001b[1;32m      7\u001b[0m \u001b[0;34m\u001b[0m\u001b[0m\n\u001b[1;32m      8\u001b[0m \u001b[0mprint\u001b[0m\u001b[0;34m(\u001b[0m\u001b[0mv\u001b[0m\u001b[0;34m)\u001b[0m\u001b[0;34m\u001b[0m\u001b[0;34m\u001b[0m\u001b[0m\n",
      "\u001b[0;31mTypeError\u001b[0m: func() takes 0 positional arguments but 1 was given"
     ]
    }
   ],
   "source": [
    "v = 0\n",
    "def func():\n",
    "    v = 2\n",
    "    return v\n",
    "\n",
    "func(v)\n",
    "\n",
    "print(v)"
   ]
  },
  {
   "cell_type": "code",
   "execution_count": 1,
   "metadata": {},
   "outputs": [],
   "source": [
    "fullsong = '''{}, doo doo doo doo doo doo\n",
    "{}, doo doo doo doo doo doo\n",
    "{}, doo doo doo doo doo doo\n",
    "{}!\n",
    "{}, doo doo doo doo doo doo\n",
    "{}, doo doo doo doo doo doo\n",
    "{}, doo doo doo doo doo doo\n",
    "{}!\n",
    "{}, doo doo doo doo doo doo\n",
    "{}, doo doo doo doo doo doo\n",
    "{}, doo doo doo doo doo doo\n",
    "{}!\n",
    "{}, doo doo doo doo doo doo\n",
    "{}, doo doo doo doo doo doo\n",
    "{}, doo doo doo doo doo doo\n",
    "{}!\n",
    "{}, doo doo doo doo doo doo\n",
    "{}, doo doo doo doo doo doo\n",
    "{}, doo doo doo doo doo doo\n",
    "{}!\n",
    "{}, doo doo doo doo doo doo\n",
    "{}, doo doo doo doo doo doo\n",
    "{}, doo doo doo doo doo doo\n",
    "{}!\n",
    "Run away,…'''\n",
    "\n",
    "result = fullsong.format('Baby shark','Baby shark','Baby shark','Baby shark','Mommy shark','Mommy shark','Mommy shark','Mommy shark','Daddy shark','Daddy shark','Daddy shark','Daddy shark','Grandma shark','Grandma shark','Grandma shark','Grandma shark','Grandpa shark','Grandpa shark','Grandpa shark','Grandpa shark',\"Let's go hunt\",\"Let's go hunt\",\"Let's go hunt\",\"Let's go hunt\")"
   ]
  },
  {
   "cell_type": "code",
   "execution_count": null,
   "metadata": {},
   "outputs": [],
   "source": []
  },
  {
   "cell_type": "code",
   "execution_count": 2,
   "metadata": {},
   "outputs": [],
   "source": [
    "babyshark = '''Baby shark, doo doo doo doo doo doo\n",
    "Baby shark, doo doo doo doo doo doo\n",
    "Baby shark, doo doo doo doo doo doo\n",
    "Baby shark!\n",
    "Mommy shark, doo doo doo doo doo doo\n",
    "Mommy shark, doo doo doo doo doo doo\n",
    "Mommy shark, doo doo doo doo doo doo\n",
    "Mommy shark!\n",
    "Daddy shark, doo doo doo doo doo doo\n",
    "Daddy shark, doo doo doo doo doo doo\n",
    "Daddy shark, doo doo doo doo doo doo\n",
    "Daddy shark!\n",
    "Grandma shark, doo doo doo doo doo doo\n",
    "Grandma shark, doo doo doo doo doo doo\n",
    "Grandma shark, doo doo doo doo doo doo\n",
    "Grandma shark!\n",
    "Grandpa shark, doo doo doo doo doo doo\n",
    "Grandpa shark, doo doo doo doo doo doo\n",
    "Grandpa shark, doo doo doo doo doo doo\n",
    "Grandpa shark!\n",
    "Let's go hunt, doo doo doo doo doo doo\n",
    "Let's go hunt, doo doo doo doo doo doo\n",
    "Let's go hunt, doo doo doo doo doo doo\n",
    "Let's go hunt!\n",
    "Run away,…'''"
   ]
  },
  {
   "cell_type": "code",
   "execution_count": 4,
   "metadata": {},
   "outputs": [
    {
     "name": "stdout",
     "output_type": "stream",
     "text": [
      "babyshark B\n",
      "result N\n",
      "babyshark a\n",
      "result o\n",
      "babyshark b\n",
      "result n\n",
      "babyshark y\n",
      "result e\n"
     ]
    },
    {
     "ename": "IndexError",
     "evalue": "string index out of range",
     "output_type": "error",
     "traceback": [
      "\u001b[0;31m---------------------------------------------------------------------------\u001b[0m",
      "\u001b[0;31mIndexError\u001b[0m                                Traceback (most recent call last)",
      "\u001b[0;32m<ipython-input-4-ebbdd0b02b9d>\u001b[0m in \u001b[0;36m<module>\u001b[0;34m\u001b[0m\n\u001b[1;32m     10\u001b[0m \u001b[0;34m\u001b[0m\u001b[0m\n\u001b[1;32m     11\u001b[0m \u001b[0;32mfor\u001b[0m \u001b[0mi\u001b[0m \u001b[0;32min\u001b[0m \u001b[0mrange\u001b[0m\u001b[0;34m(\u001b[0m\u001b[0mlen\u001b[0m\u001b[0;34m(\u001b[0m\u001b[0mbabyshark\u001b[0m\u001b[0;34m)\u001b[0m\u001b[0;34m)\u001b[0m\u001b[0;34m:\u001b[0m\u001b[0;34m\u001b[0m\u001b[0;34m\u001b[0m\u001b[0m\n\u001b[0;32m---> 12\u001b[0;31m     \u001b[0;32mif\u001b[0m \u001b[0mresult\u001b[0m\u001b[0;34m[\u001b[0m\u001b[0mi\u001b[0m\u001b[0;34m]\u001b[0m \u001b[0;34m!=\u001b[0m \u001b[0mbabyshark\u001b[0m\u001b[0;34m[\u001b[0m\u001b[0mi\u001b[0m\u001b[0;34m]\u001b[0m\u001b[0;34m:\u001b[0m\u001b[0;34m\u001b[0m\u001b[0;34m\u001b[0m\u001b[0m\n\u001b[0m\u001b[1;32m     13\u001b[0m         \u001b[0mprint\u001b[0m \u001b[0;34m(\u001b[0m\u001b[0;34m'babyshark'\u001b[0m\u001b[0;34m,\u001b[0m \u001b[0mbabyshark\u001b[0m\u001b[0;34m[\u001b[0m\u001b[0mi\u001b[0m\u001b[0;34m]\u001b[0m\u001b[0;34m)\u001b[0m\u001b[0;34m\u001b[0m\u001b[0;34m\u001b[0m\u001b[0m\n\u001b[1;32m     14\u001b[0m         \u001b[0mprint\u001b[0m\u001b[0;34m(\u001b[0m\u001b[0;34m'result'\u001b[0m\u001b[0;34m,\u001b[0m \u001b[0mresult\u001b[0m\u001b[0;34m[\u001b[0m\u001b[0mi\u001b[0m\u001b[0;34m]\u001b[0m\u001b[0;34m)\u001b[0m\u001b[0;34m\u001b[0m\u001b[0;34m\u001b[0m\u001b[0m\n",
      "\u001b[0;31mIndexError\u001b[0m: string index out of range"
     ]
    }
   ],
   "source": [
    "line = '''{}, doo doo doo doo doo doo\\n'''\n",
    "sharks = [\"Baby shark\",\"Mommy shark\",\"Daddy shark\",\"Grandma shark\",\"Grandpa shark\", \"Let's go hunt\"]\n",
    "\n",
    "def baby_shark_lyrics():\n",
    "    for i in sharks:\n",
    "        songline = line.format(i)\n",
    "        print (songline*3 + i + '!')\n",
    "    print('''Run away,…''')\n",
    "\n",
    "\n",
    "for i in range(len(babyshark)):\n",
    "    if result[i] != babyshark[i]:\n",
    "        print ('babyshark', babyshark[i])\n",
    "        print('result', result[i])"
   ]
  },
  {
   "cell_type": "code",
   "execution_count": null,
   "metadata": {},
   "outputs": [],
   "source": []
  },
  {
   "cell_type": "code",
   "execution_count": 13,
   "metadata": {},
   "outputs": [
    {
     "name": "stdout",
     "output_type": "stream",
     "text": [
      "[2]\n"
     ]
    }
   ],
   "source": [
    "x = []\n",
    "\n",
    "def func():\n",
    "    x.append(2)\n",
    "\n",
    "func()\n",
    "print(x)"
   ]
  },
  {
   "cell_type": "code",
   "execution_count": 16,
   "metadata": {},
   "outputs": [
    {
     "ename": "NameError",
     "evalue": "name 'bottles' is not defined",
     "output_type": "error",
     "traceback": [
      "\u001b[0;31m---------------------------------------------------------------------------\u001b[0m",
      "\u001b[0;31mNameError\u001b[0m                                 Traceback (most recent call last)",
      "\u001b[0;32m<ipython-input-16-76f7885f622a>\u001b[0m in \u001b[0;36m<module>\u001b[0;34m\u001b[0m\n\u001b[1;32m      1\u001b[0m \u001b[0mpapapa\u001b[0m \u001b[0;34m=\u001b[0m \u001b[0;34m'bottles of beer'\u001b[0m\u001b[0;34m\u001b[0m\u001b[0;34m\u001b[0m\u001b[0m\n\u001b[0;32m----> 2\u001b[0;31m \u001b[0mpapapa\u001b[0m\u001b[0;34m[\u001b[0m\u001b[0mbottles\u001b[0m\u001b[0;34m]\u001b[0m \u001b[0;34m=\u001b[0m \u001b[0;34m'bottle'\u001b[0m\u001b[0;34m\u001b[0m\u001b[0;34m\u001b[0m\u001b[0m\n\u001b[0m\u001b[1;32m      3\u001b[0m \u001b[0mprint\u001b[0m\u001b[0;34m(\u001b[0m\u001b[0mpapapa\u001b[0m\u001b[0;34m)\u001b[0m\u001b[0;34m\u001b[0m\u001b[0;34m\u001b[0m\u001b[0m\n",
      "\u001b[0;31mNameError\u001b[0m: name 'bottles' is not defined"
     ]
    }
   ],
   "source": [
    "papapa = 'bottles of beer'\n",
    "\n",
    "papapa[bottles] = 'bottle'\n",
    "\n",
    "print(papapa)"
   ]
  },
  {
   "cell_type": "code",
   "execution_count": null,
   "metadata": {},
   "outputs": [],
   "source": []
  }
 ],
 "metadata": {
  "kernelspec": {
   "display_name": "Python 3",
   "language": "python",
   "name": "python3"
  },
  "language_info": {
   "codemirror_mode": {
    "name": "ipython",
    "version": 3
   },
   "file_extension": ".py",
   "mimetype": "text/x-python",
   "name": "python",
   "nbconvert_exporter": "python",
   "pygments_lexer": "ipython3",
   "version": "3.7.6"
  }
 },
 "nbformat": 4,
 "nbformat_minor": 2
}
