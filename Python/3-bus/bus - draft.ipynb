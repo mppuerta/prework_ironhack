{
 "cells": [
  {
   "cell_type": "code",
   "execution_count": 1,
   "metadata": {},
   "outputs": [],
   "source": [
    "#Bus\n",
    "#This bus has a passenger entry and exit control system to monitor the number of occupants it carries and\n",
    "#thus detect when there is too high a capacity.\n",
    "\n",
    "#At each stop the entry and exit of passengers is represented by a tuple consisting of two integer numbers.\n",
    "\n",
    "#bus_stop = (in, out)\n",
    "#The succession of stops is represented by a list of these tuples.\n",
    "\n",
    "#stops = [(in1, out1), (in2, out2), (in3, out3), (in4, out4)]\n",
    "\n",
    "#Goals:\n",
    "#lists, tuples\n",
    "#while/for loops\n",
    "#minimum, maximum, length\n",
    "#average, standard deviation\n",
    "\n",
    "\n",
    "#Find the maximum occupation of the bus.\n",
    "#Calculate the average occupation. And the standard deviation."
   ]
  },
  {
   "cell_type": "code",
   "execution_count": 2,
   "metadata": {},
   "outputs": [
    {
     "name": "stdout",
     "output_type": "stream",
     "text": [
      "[10, 13, 11, 10, 14, 10, 7, 5, 4]\n"
     ]
    }
   ],
   "source": [
    "#Assign to a variable a list whose elements are the number of passengers at each stop (in-out)\n",
    "\n",
    "stops = [(10, 0), (4, 1), (3, 5), (3, 4), (5, 1), (1, 5), (5, 8), (4, 6), (2, 3)]\n",
    "\n",
    "passengers_per_stop = []\n",
    "passengers = 0\n",
    "\n",
    "for i in stops:\n",
    "    passengers += i[0] - i[1]\n",
    "    passengers_per_stop.append(passengers)\n",
    "    \n",
    "print (passengers_per_stop)\n"
   ]
  },
  {
   "cell_type": "code",
   "execution_count": null,
   "metadata": {},
   "outputs": [],
   "source": []
  }
 ],
 "metadata": {
  "kernelspec": {
   "display_name": "Python 3",
   "language": "python",
   "name": "python3"
  },
  "language_info": {
   "codemirror_mode": {
    "name": "ipython",
    "version": 3
   },
   "file_extension": ".py",
   "mimetype": "text/x-python",
   "name": "python",
   "nbconvert_exporter": "python",
   "pygments_lexer": "ipython3",
   "version": "3.7.6"
  }
 },
 "nbformat": 4,
 "nbformat_minor": 2
}
