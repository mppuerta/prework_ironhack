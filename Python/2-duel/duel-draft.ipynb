{
 "cells": [
  {
   "cell_type": "code",
   "execution_count": 1,
   "metadata": {},
   "outputs": [],
   "source": [
    "#Duel of sorcerers\n",
    "\n",
    "#You are witnessing an epic battle between two powerful sorcerers: Gandalf and Saruman. Each sorcerer has 10 spells of variable power in their mind and they are going to throw them one after the other. The winner of the duel will be the one who wins more of those clashes between spells. Spells are represented as a list of 10 integers whose value equals the power of the spell.\n",
    "\n",
    "#gandalf = [10, 11, 13, 30, 22, 11, 10, 33, 22, 22]\n",
    "#saruman = [23, 66, 12, 43, 12, 10, 44, 23, 12, 17]\n",
    "\n",
    "#For example:\n",
    "\n",
    "#The first clash is won by Saruman: 10 against 23, wins 23\n",
    "\n",
    "#The second clash wins Saruman: 11 against 66, wins 66, etc.\n",
    "\n",
    "#You will create two variables, one for each sorcerer, where the sum of clashes won will be stored. Depending on which variable is greater at the end of the duel, you will show one of the following three results on the screen:\n",
    "\n",
    "#Gandalf wins\n",
    "#Saruman wins\n",
    "#Tie\n"
   ]
  },
  {
   "cell_type": "code",
   "execution_count": 39,
   "metadata": {},
   "outputs": [
    {
     "name": "stdout",
     "output_type": "stream",
     "text": [
      "Gandalf wins\n"
     ]
    }
   ],
   "source": [
    "gandalf = [10, 11, 13, 30, 22, 11, 10, 33, 22, 22]\n",
    "saruman = [23, 66, 12, 43, 12, 10, 44, 23, 12, 17]\n",
    "\n",
    "battles = zip(gandalf, saruman)\n",
    "battleslist = list(battles)\n",
    "\n",
    "gandalfwins = 0\n",
    "sarumanwins = 0\n",
    "\n",
    "\n",
    "for i in battleslist:\n",
    "    result = i[0] - i[1]\n",
    "    if result > 0:\n",
    "        gandalfwins += 1\n",
    "    if result < 0:\n",
    "        sarumanwins += 1\n",
    "\n",
    "\n",
    "if gandalfwins > sarumanwins:\n",
    "    print ('Gandalf wins')\n",
    "elif gandalfwins < sarumanwins:\n",
    "    print ('Saruman wins')\n",
    "else:\n",
    "    print ('Tie')\n",
    "        "
   ]
  },
  {
   "cell_type": "code",
   "execution_count": null,
   "metadata": {},
   "outputs": [],
   "source": [
    "#Bonus\n",
    "#Spells now have a name and there is a dictionary that relates that name to a power.\n",
    "#A sorcerer wins if he succeeds in winning 3 spell clashes in a row.\n",
    "#Average of each of the spell lists.\n",
    "#Standard deviation of each of the spell lists.\n",
    "#POWER = {\n",
    "#   'Fireball': 50, \n",
    "#   'Lightning bolt': 40, \n",
    "#   'Magic arrow': 10, \n",
    "#   'Black Tentacles': 25, \n",
    "#   'Contagion': 45\n",
    "#}\n",
    "#\n",
    "#gandalf = ['Fireball', 'Lightning bolt', 'Lightning bolt', 'Magic arrow', 'Fireball', \n",
    "#          'Magic arrow', 'Lightning bolt', 'Fireball', 'Fireball', 'Fireball']\n",
    "#saruman = ['Contagion', 'Contagion', 'Black Tentacles', 'Fireball', 'Black Tentacles', \n",
    "#          'Lightning bolt', 'Magic arrow', 'Contagion', 'Magic arrow', 'Magic arrow']\n",
    "#Good luck!"
   ]
  },
  {
   "cell_type": "code",
   "execution_count": 7,
   "metadata": {},
   "outputs": [],
   "source": [
    "POWER = {'Fireball': 50, 'Lightning bolt': 40, 'Magic arrow': 10, 'Black Tentacles': 25, 'Contagion': 45}\n",
    "\n",
    "gandalf = ['Fireball', 'Lightning bolt', 'Lightning bolt', 'Magic arrow', 'Fireball', 'Magic arrow', 'Lightning bolt', 'Fireball', 'Fireball', 'Fireball']\n",
    "saruman = ['Contagion', 'Contagion', 'Black Tentacles', 'Fireball', 'Black Tentacles', 'Lightning bolt', 'Magic arrow', 'Contagion', 'Magic arrow', 'Magic arrow']\n",
    "\n",
    "\n",
    "gandalf_spells = []\n",
    "saruman_spells = []\n",
    "\n",
    "for i in gandalf:\n",
    "    value = POWER.get(i)\n",
    "    gandalf_spells.append (value)\n",
    "    \n",
    "for i in saruman:\n",
    "    value = POWER.get(i)\n",
    "    saruman_spells.append (value)\n",
    "\n",
    "\n"
   ]
  },
  {
   "cell_type": "code",
   "execution_count": 31,
   "metadata": {},
   "outputs": [
    {
     "name": "stdout",
     "output_type": "stream",
     "text": [
      "Gandalf wins\n"
     ]
    }
   ],
   "source": [
    "# 2. A sorcerer wins if he succeeds in winning 3 spell clashes in a row.\n",
    "\n",
    "battles = zip (gandalf_spells, saruman_spells)\n",
    "battleslist = list (battles)\n",
    "\n",
    "results = []\n",
    "\n",
    "\n",
    "for i in battleslist:\n",
    "    battle = i[0] - i[1]\n",
    "    if battle > 0:\n",
    "        results.append ('gandalf')\n",
    "    if battle < 0:\n",
    "        results.append ('saruman')\n",
    "        \n",
    "        \n",
    "threeinrow = zip(results[0:], results[2:], results[3:])\n",
    "threeinrowlist = list(threeinrow)\n",
    "\n",
    "\n",
    "\n",
    "for i in threeinrowlist:\n",
    "    if i == ('saruman', 'saruman', 'saruman'):\n",
    "        print ('Saruman wins')\n",
    "        break\n",
    "    elif i == ('gandalf', 'gandalf', 'gandalf'):\n",
    "        print ('Gandalf wins')\n",
    "        break\n",
    "\n"
   ]
  },
  {
   "cell_type": "code",
   "execution_count": null,
   "metadata": {},
   "outputs": [],
   "source": []
  },
  {
   "cell_type": "code",
   "execution_count": null,
   "metadata": {},
   "outputs": [],
   "source": []
  },
  {
   "cell_type": "code",
   "execution_count": null,
   "metadata": {},
   "outputs": [],
   "source": []
  },
  {
   "cell_type": "code",
   "execution_count": null,
   "metadata": {},
   "outputs": [],
   "source": []
  }
 ],
 "metadata": {
  "kernelspec": {
   "display_name": "Python 3",
   "language": "python",
   "name": "python3"
  },
  "language_info": {
   "codemirror_mode": {
    "name": "ipython",
    "version": 3
   },
   "file_extension": ".py",
   "mimetype": "text/x-python",
   "name": "python",
   "nbconvert_exporter": "python",
   "pygments_lexer": "ipython3",
   "version": "3.7.6"
  }
 },
 "nbformat": 4,
 "nbformat_minor": 2
}
